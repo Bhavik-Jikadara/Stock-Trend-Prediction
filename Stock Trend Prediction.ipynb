{
 "cells": [
  {
   "cell_type": "code",
   "execution_count": 3,
   "id": "5f2c66de",
   "metadata": {},
   "outputs": [],
   "source": [
    "import pandas as pd\n",
    "import numpy as np\n",
    "import matplotlib.pyplot as plt\n",
    "import pandas_datareader as data\n",
    "import yfinance as yf"
   ]
  },
  {
   "cell_type": "code",
   "execution_count": 4,
   "id": "8a55630e",
   "metadata": {},
   "outputs": [
    {
     "name": "stdout",
     "output_type": "stream",
     "text": [
      "[*********************100%***********************]  1 of 1 completed\n"
     ]
    },
    {
     "data": {
      "text/html": [
       "<div>\n",
       "<style scoped>\n",
       "    .dataframe tbody tr th:only-of-type {\n",
       "        vertical-align: middle;\n",
       "    }\n",
       "\n",
       "    .dataframe tbody tr th {\n",
       "        vertical-align: top;\n",
       "    }\n",
       "\n",
       "    .dataframe thead th {\n",
       "        text-align: right;\n",
       "    }\n",
       "</style>\n",
       "<table border=\"1\" class=\"dataframe\">\n",
       "  <thead>\n",
       "    <tr style=\"text-align: right;\">\n",
       "      <th></th>\n",
       "      <th>Open</th>\n",
       "      <th>High</th>\n",
       "      <th>Low</th>\n",
       "      <th>Close</th>\n",
       "      <th>Adj Close</th>\n",
       "      <th>Volume</th>\n",
       "    </tr>\n",
       "    <tr>\n",
       "      <th>Date</th>\n",
       "      <th></th>\n",
       "      <th></th>\n",
       "      <th></th>\n",
       "      <th></th>\n",
       "      <th></th>\n",
       "      <th></th>\n",
       "    </tr>\n",
       "  </thead>\n",
       "  <tbody>\n",
       "    <tr>\n",
       "      <th>2010-01-04</th>\n",
       "      <td>17.570000</td>\n",
       "      <td>18.090000</td>\n",
       "      <td>17.490000</td>\n",
       "      <td>18.030001</td>\n",
       "      <td>16.901852</td>\n",
       "      <td>2141700</td>\n",
       "    </tr>\n",
       "    <tr>\n",
       "      <th>2010-01-05</th>\n",
       "      <td>17.780001</td>\n",
       "      <td>17.900000</td>\n",
       "      <td>17.620001</td>\n",
       "      <td>17.850000</td>\n",
       "      <td>16.733114</td>\n",
       "      <td>2022500</td>\n",
       "    </tr>\n",
       "    <tr>\n",
       "      <th>2010-01-06</th>\n",
       "      <td>17.900000</td>\n",
       "      <td>18.010000</td>\n",
       "      <td>17.770000</td>\n",
       "      <td>17.990000</td>\n",
       "      <td>16.864353</td>\n",
       "      <td>2057800</td>\n",
       "    </tr>\n",
       "    <tr>\n",
       "      <th>2010-01-07</th>\n",
       "      <td>17.389999</td>\n",
       "      <td>17.629999</td>\n",
       "      <td>17.340000</td>\n",
       "      <td>17.570000</td>\n",
       "      <td>16.470634</td>\n",
       "      <td>2706800</td>\n",
       "    </tr>\n",
       "    <tr>\n",
       "      <th>2010-01-08</th>\n",
       "      <td>17.559999</td>\n",
       "      <td>17.559999</td>\n",
       "      <td>17.370001</td>\n",
       "      <td>17.400000</td>\n",
       "      <td>16.311270</td>\n",
       "      <td>1967200</td>\n",
       "    </tr>\n",
       "  </tbody>\n",
       "</table>\n",
       "</div>"
      ],
      "text/plain": [
       "                 Open       High        Low      Close  Adj Close   Volume\n",
       "Date                                                                      \n",
       "2010-01-04  17.570000  18.090000  17.490000  18.030001  16.901852  2141700\n",
       "2010-01-05  17.780001  17.900000  17.620001  17.850000  16.733114  2022500\n",
       "2010-01-06  17.900000  18.010000  17.770000  17.990000  16.864353  2057800\n",
       "2010-01-07  17.389999  17.629999  17.340000  17.570000  16.470634  2706800\n",
       "2010-01-08  17.559999  17.559999  17.370001  17.400000  16.311270  1967200"
      ]
     },
     "execution_count": 4,
     "metadata": {},
     "output_type": "execute_result"
    }
   ],
   "source": [
    "start = '2010-01-01'\n",
    "end = '2022-05-15'\n",
    "\n",
    "df = yf.download('TTM', start=start, end=end)\n",
    "df.head()"
   ]
  },
  {
   "cell_type": "code",
   "execution_count": 5,
   "id": "eef25774",
   "metadata": {},
   "outputs": [
    {
     "data": {
      "text/html": [
       "<div>\n",
       "<style scoped>\n",
       "    .dataframe tbody tr th:only-of-type {\n",
       "        vertical-align: middle;\n",
       "    }\n",
       "\n",
       "    .dataframe tbody tr th {\n",
       "        vertical-align: top;\n",
       "    }\n",
       "\n",
       "    .dataframe thead th {\n",
       "        text-align: right;\n",
       "    }\n",
       "</style>\n",
       "<table border=\"1\" class=\"dataframe\">\n",
       "  <thead>\n",
       "    <tr style=\"text-align: right;\">\n",
       "      <th></th>\n",
       "      <th>Date</th>\n",
       "      <th>Open</th>\n",
       "      <th>High</th>\n",
       "      <th>Low</th>\n",
       "      <th>Close</th>\n",
       "      <th>Adj Close</th>\n",
       "      <th>Volume</th>\n",
       "    </tr>\n",
       "  </thead>\n",
       "  <tbody>\n",
       "    <tr>\n",
       "      <th>0</th>\n",
       "      <td>2010-01-04</td>\n",
       "      <td>17.570000</td>\n",
       "      <td>18.090000</td>\n",
       "      <td>17.490000</td>\n",
       "      <td>18.030001</td>\n",
       "      <td>16.901852</td>\n",
       "      <td>2141700</td>\n",
       "    </tr>\n",
       "    <tr>\n",
       "      <th>1</th>\n",
       "      <td>2010-01-05</td>\n",
       "      <td>17.780001</td>\n",
       "      <td>17.900000</td>\n",
       "      <td>17.620001</td>\n",
       "      <td>17.850000</td>\n",
       "      <td>16.733114</td>\n",
       "      <td>2022500</td>\n",
       "    </tr>\n",
       "    <tr>\n",
       "      <th>2</th>\n",
       "      <td>2010-01-06</td>\n",
       "      <td>17.900000</td>\n",
       "      <td>18.010000</td>\n",
       "      <td>17.770000</td>\n",
       "      <td>17.990000</td>\n",
       "      <td>16.864353</td>\n",
       "      <td>2057800</td>\n",
       "    </tr>\n",
       "    <tr>\n",
       "      <th>3</th>\n",
       "      <td>2010-01-07</td>\n",
       "      <td>17.389999</td>\n",
       "      <td>17.629999</td>\n",
       "      <td>17.340000</td>\n",
       "      <td>17.570000</td>\n",
       "      <td>16.470634</td>\n",
       "      <td>2706800</td>\n",
       "    </tr>\n",
       "    <tr>\n",
       "      <th>4</th>\n",
       "      <td>2010-01-08</td>\n",
       "      <td>17.559999</td>\n",
       "      <td>17.559999</td>\n",
       "      <td>17.370001</td>\n",
       "      <td>17.400000</td>\n",
       "      <td>16.311270</td>\n",
       "      <td>1967200</td>\n",
       "    </tr>\n",
       "  </tbody>\n",
       "</table>\n",
       "</div>"
      ],
      "text/plain": [
       "        Date       Open       High        Low      Close  Adj Close   Volume\n",
       "0 2010-01-04  17.570000  18.090000  17.490000  18.030001  16.901852  2141700\n",
       "1 2010-01-05  17.780001  17.900000  17.620001  17.850000  16.733114  2022500\n",
       "2 2010-01-06  17.900000  18.010000  17.770000  17.990000  16.864353  2057800\n",
       "3 2010-01-07  17.389999  17.629999  17.340000  17.570000  16.470634  2706800\n",
       "4 2010-01-08  17.559999  17.559999  17.370001  17.400000  16.311270  1967200"
      ]
     },
     "execution_count": 5,
     "metadata": {},
     "output_type": "execute_result"
    }
   ],
   "source": [
    "df = df.reset_index()\n",
    "df.head()"
   ]
  },
  {
   "cell_type": "code",
   "execution_count": 6,
   "id": "57684d09",
   "metadata": {},
   "outputs": [
    {
     "data": {
      "text/html": [
       "<div>\n",
       "<style scoped>\n",
       "    .dataframe tbody tr th:only-of-type {\n",
       "        vertical-align: middle;\n",
       "    }\n",
       "\n",
       "    .dataframe tbody tr th {\n",
       "        vertical-align: top;\n",
       "    }\n",
       "\n",
       "    .dataframe thead th {\n",
       "        text-align: right;\n",
       "    }\n",
       "</style>\n",
       "<table border=\"1\" class=\"dataframe\">\n",
       "  <thead>\n",
       "    <tr style=\"text-align: right;\">\n",
       "      <th></th>\n",
       "      <th>Open</th>\n",
       "      <th>High</th>\n",
       "      <th>Low</th>\n",
       "      <th>Close</th>\n",
       "      <th>Volume</th>\n",
       "    </tr>\n",
       "  </thead>\n",
       "  <tbody>\n",
       "    <tr>\n",
       "      <th>0</th>\n",
       "      <td>17.570000</td>\n",
       "      <td>18.090000</td>\n",
       "      <td>17.490000</td>\n",
       "      <td>18.030001</td>\n",
       "      <td>2141700</td>\n",
       "    </tr>\n",
       "    <tr>\n",
       "      <th>1</th>\n",
       "      <td>17.780001</td>\n",
       "      <td>17.900000</td>\n",
       "      <td>17.620001</td>\n",
       "      <td>17.850000</td>\n",
       "      <td>2022500</td>\n",
       "    </tr>\n",
       "    <tr>\n",
       "      <th>2</th>\n",
       "      <td>17.900000</td>\n",
       "      <td>18.010000</td>\n",
       "      <td>17.770000</td>\n",
       "      <td>17.990000</td>\n",
       "      <td>2057800</td>\n",
       "    </tr>\n",
       "    <tr>\n",
       "      <th>3</th>\n",
       "      <td>17.389999</td>\n",
       "      <td>17.629999</td>\n",
       "      <td>17.340000</td>\n",
       "      <td>17.570000</td>\n",
       "      <td>2706800</td>\n",
       "    </tr>\n",
       "    <tr>\n",
       "      <th>4</th>\n",
       "      <td>17.559999</td>\n",
       "      <td>17.559999</td>\n",
       "      <td>17.370001</td>\n",
       "      <td>17.400000</td>\n",
       "      <td>1967200</td>\n",
       "    </tr>\n",
       "  </tbody>\n",
       "</table>\n",
       "</div>"
      ],
      "text/plain": [
       "        Open       High        Low      Close   Volume\n",
       "0  17.570000  18.090000  17.490000  18.030001  2141700\n",
       "1  17.780001  17.900000  17.620001  17.850000  2022500\n",
       "2  17.900000  18.010000  17.770000  17.990000  2057800\n",
       "3  17.389999  17.629999  17.340000  17.570000  2706800\n",
       "4  17.559999  17.559999  17.370001  17.400000  1967200"
      ]
     },
     "execution_count": 6,
     "metadata": {},
     "output_type": "execute_result"
    }
   ],
   "source": [
    "df = df.drop(['Date', 'Adj Close'], axis = 1)\n",
    "df.head()"
   ]
  },
  {
   "cell_type": "code",
   "execution_count": 7,
   "id": "991b4461",
   "metadata": {},
   "outputs": [
    {
     "name": "stdout",
     "output_type": "stream",
     "text": [
      "<class 'pandas.core.frame.DataFrame'>\n",
      "RangeIndex: 3113 entries, 0 to 3112\n",
      "Data columns (total 5 columns):\n",
      " #   Column  Non-Null Count  Dtype  \n",
      "---  ------  --------------  -----  \n",
      " 0   Open    3113 non-null   float64\n",
      " 1   High    3113 non-null   float64\n",
      " 2   Low     3113 non-null   float64\n",
      " 3   Close   3113 non-null   float64\n",
      " 4   Volume  3113 non-null   int64  \n",
      "dtypes: float64(4), int64(1)\n",
      "memory usage: 121.7 KB\n"
     ]
    }
   ],
   "source": [
    "df.info()"
   ]
  },
  {
   "cell_type": "code",
   "execution_count": 8,
   "id": "e5fe7c91",
   "metadata": {},
   "outputs": [
    {
     "data": {
      "text/plain": [
       "[<matplotlib.lines.Line2D at 0x16946707640>]"
      ]
     },
     "execution_count": 8,
     "metadata": {},
     "output_type": "execute_result"
    },
    {
     "data": {
      "image/png": "[encoded data removed]",
      "text/plain": [
       "<Figure size 640x480 with 1 Axes>"
      ]
     },
     "metadata": {},
     "output_type": "display_data"
    }
   ],
   "source": [
    "plt.plot(df.Close)"
   ]
  },
  {
   "cell_type": "code",
   "execution_count": 10,
   "id": "a333ebdb",
   "metadata": {},
   "outputs": [
    {
     "data": {
      "text/plain": [
       "0           NaN\n",
       "1           NaN\n",
       "2           NaN\n",
       "3           NaN\n",
       "4           NaN\n",
       "         ...   \n",
       "3108    30.2612\n",
       "3109    30.1943\n",
       "3110    30.1226\n",
       "3111    30.0607\n",
       "3112    30.0299\n",
       "Name: Close, Length: 3113, dtype: float64"
      ]
     },
     "execution_count": 10,
     "metadata": {},
     "output_type": "execute_result"
    }
   ],
   "source": [
    "ma100 = df.Close.rolling(100).mean()\n",
    "ma100"
   ]
  },
  {
   "cell_type": "code",
   "execution_count": 12,
   "id": "a6bf3c6d",
   "metadata": {},
   "outputs": [
    {
     "data": {
      "text/plain": [
       "[<matplotlib.lines.Line2D at 0x169467c48e0>]"
      ]
     },
     "execution_count": 12,
     "metadata": {},
     "output_type": "execute_result"
    },
    {
     "data": {
      "image/png": "[encoded data removed]",
      "text/plain": [
       "<Figure size 1200x600 with 1 Axes>"
      ]
     },
     "metadata": {},
     "output_type": "display_data"
    }
   ],
   "source": [
    "ma200 = df.Close.rolling(200).mean()\n",
    "\n",
    "plt.figure(figsize=(12,6))\n",
    "plt.plot(df.Close)\n",
    "plt.plot(ma100, 'r')\n",
    "plt.plot(ma200, 'g')"
   ]
  },
  {
   "cell_type": "markdown",
   "id": "1f1ae207",
   "metadata": {},
   "source": [
    "### Spliting Data into Trianing and Testing"
   ]
  },
  {
   "cell_type": "code",
   "execution_count": 13,
   "id": "444cd46b",
   "metadata": {},
   "outputs": [
    {
     "name": "stdout",
     "output_type": "stream",
     "text": [
      "(2179, 1)\n",
      "(934, 1)\n"
     ]
    }
   ],
   "source": [
    "data_training = pd.DataFrame(df['Close'][0: int(len(df) * 0.70)])\n",
    "data_testing = pd.DataFrame(df['Close'][int(len(df) * 0.70): int(len(df))])\n",
    "\n",
    "print(data_training.shape)\n",
    "print(data_testing.shape)"
   ]
  },
  {
   "cell_type": "code",
   "execution_count": 14,
   "id": "f4c4b2d0",
   "metadata": {},
   "outputs": [],
   "source": [
    "# convert into the 0 and 1 \n",
    "from sklearn.preprocessing import MinMaxScaler\n",
    "scaler = MinMaxScaler(feature_range=(0,1))"
   ]
  },
  {
   "cell_type": "code",
   "execution_count": 15,
   "id": "92871889",
   "metadata": {},
   "outputs": [
    {
     "data": {
      "text/plain": [
       "(2179, 1)"
      ]
     },
     "execution_count": 15,
     "metadata": {},
     "output_type": "execute_result"
    }
   ],
   "source": [
    "data_training_array = scaler.fit_transform(data_training)\n",
    "data_training_array.shape"
   ]
  },
  {
   "cell_type": "code",
   "execution_count": 16,
   "id": "74e5da56",
   "metadata": {},
   "outputs": [],
   "source": [
    "x_train = []\n",
    "y_train = []\n",
    "\n",
    "for i in range(100, data_training_array.shape[0]):\n",
    "    x_train.append(data_training_array[i-100: i])\n",
    "    y_train.append(data_training_array[i, 0])"
   ]
  },
  {
   "cell_type": "code",
   "execution_count": 17,
   "id": "f86c56de",
   "metadata": {},
   "outputs": [],
   "source": [
    "# convert into the numpy array\n",
    "x_train, y_train = np.array(x_train), np.array(y_train)"
   ]
  },
  {
   "cell_type": "code",
   "execution_count": 18,
   "id": "154d21b3",
   "metadata": {},
   "outputs": [
    {
     "data": {
      "text/plain": [
       "array([[[0.10083358],\n",
       "        [0.09599356],\n",
       "        [0.099758  ],\n",
       "        ...,\n",
       "        [0.05700457],\n",
       "        [0.03683786],\n",
       "        [0.03764454]],\n",
       "\n",
       "       [[0.09599356],\n",
       "        [0.099758  ],\n",
       "        [0.08846464],\n",
       "        ...,\n",
       "        [0.03683786],\n",
       "        [0.03764454],\n",
       "        [0.07448237]],\n",
       "\n",
       "       [[0.099758  ],\n",
       "        [0.08846464],\n",
       "        [0.08389351],\n",
       "        ...,\n",
       "        [0.03764454],\n",
       "        [0.07448237],\n",
       "        [0.06453349]],\n",
       "\n",
       "       ...,\n",
       "\n",
       "       [[0.35278299],\n",
       "        [0.35869859],\n",
       "        [0.35116967],\n",
       "        ...,\n",
       "        [0.13121807],\n",
       "        [0.12557141],\n",
       "        [0.10486691]],\n",
       "\n",
       "       [[0.35869859],\n",
       "        [0.35116967],\n",
       "        [0.34848076],\n",
       "        ...,\n",
       "        [0.12557141],\n",
       "        [0.10486691],\n",
       "        [0.10943803]],\n",
       "\n",
       "       [[0.35116967],\n",
       "        [0.34848076],\n",
       "        [0.34740523],\n",
       "        ...,\n",
       "        [0.10486691],\n",
       "        [0.10943803],\n",
       "        [0.11804249]]])"
      ]
     },
     "execution_count": 18,
     "metadata": {},
     "output_type": "execute_result"
    }
   ],
   "source": [
    "x_train"
   ]
  },
  {
   "cell_type": "markdown",
   "id": "45195327",
   "metadata": {},
   "source": [
    "# Model "
   ]
  },
  {
   "cell_type": "code",
   "execution_count": 19,
   "id": "e91ccc0e",
   "metadata": {},
   "outputs": [],
   "source": [
    "from keras.layers import Dense, Dropout, LSTM\n",
    "from keras.models import Sequential"
   ]
  },
  {
   "cell_type": "code",
   "execution_count": 21,
   "id": "baa0c3de",
   "metadata": {},
   "outputs": [],
   "source": [
    "model = Sequential()\n",
    "model.add(LSTM(units=50, activation='relu', return_sequences= True, input_shape = (x_train.shape[1], 1)))\n",
    "model.add(Dropout(0.2))\n",
    "\n",
    "model.add(LSTM(units=60, activation='relu', return_sequences= True))\n",
    "model.add(Dropout(0.3))\n",
    "\n",
    "model.add(LSTM(units=80, activation='relu', return_sequences= True))\n",
    "model.add(Dropout(0.4))\n",
    "\n",
    "model.add(LSTM(units=120, activation='relu', return_sequences=True))\n",
    "model.add(Dropout(0.5))\n",
    "\n",
    "model.add(LSTM(units=170, activation='relu'))\n",
    "model.add(Dropout(0.6))\n",
    "\n",
    "model.add(Dense(units= 1))"
   ]
  },
  {
   "cell_type": "code",
   "execution_count": 22,
   "id": "99258bf1",
   "metadata": {},
   "outputs": [
    {
     "name": "stdout",
     "output_type": "stream",
     "text": [
      "Model: \"sequential_1\"\n",
      "_________________________________________________________________\n",
      " Layer (type)                Output Shape              Param #   \n",
      "=================================================================\n",
      " lstm_5 (LSTM)               (None, 100, 50)           10400     \n",
      "                                                                 \n",
      " dropout_4 (Dropout)         (None, 100, 50)           0         \n",
      "                                                                 \n",
      " lstm_6 (LSTM)               (None, 100, 60)           26640     \n",
      "                                                                 \n",
      " dropout_5 (Dropout)         (None, 100, 60)           0         \n",
      "                                                                 \n",
      " lstm_7 (LSTM)               (None, 100, 80)           45120     \n",
      "                                                                 \n",
      " dropout_6 (Dropout)         (None, 100, 80)           0         \n",
      "                                                                 \n",
      " lstm_8 (LSTM)               (None, 100, 120)          96480     \n",
      "                                                                 \n",
      " dropout_7 (Dropout)         (None, 100, 120)          0         \n",
      "                                                                 \n",
      " lstm_9 (LSTM)               (None, 170)               197880    \n",
      "                                                                 \n",
      " dropout_8 (Dropout)         (None, 170)               0         \n",
      "                                                                 \n",
      " dense (Dense)               (None, 1)                 171       \n",
      "                                                                 \n",
      "=================================================================\n",
      "Total params: 376,691\n",
      "Trainable params: 376,691\n",
      "Non-trainable params: 0\n",
      "_________________________________________________________________\n"
     ]
    }
   ],
   "source": [
    "model.summary()"
   ]
  },
  {
   "cell_type": "code",
   "execution_count": 23,
   "id": "9fc0da1c",
   "metadata": {},
   "outputs": [
    {
     "name": "stdout",
     "output_type": "stream",
     "text": [
      "Epoch 1/50\n",
      "65/65 [==============================] - 31s 382ms/step - loss: 0.0452\n",
      "Epoch 2/50\n",
      "65/65 [==============================] - 23s 361ms/step - loss: 0.0131\n",
      "Epoch 3/50\n",
      "65/65 [==============================] - 24s 371ms/step - loss: 0.0105\n",
      "Epoch 4/50\n",
      "65/65 [==============================] - 24s 376ms/step - loss: 0.0098\n",
      "Epoch 5/50\n",
      "65/65 [==============================] - 25s 382ms/step - loss: 0.0084\n",
      "Epoch 6/50\n",
      "65/65 [==============================] - 25s 387ms/step - loss: 0.0079\n",
      "Epoch 7/50\n",
      "65/65 [==============================] - 26s 395ms/step - loss: 0.0075\n",
      "Epoch 8/50\n",
      "65/65 [==============================] - 25s 387ms/step - loss: 0.0073\n",
      "Epoch 9/50\n",
      "65/65 [==============================] - 27s 409ms/step - loss: 0.0066\n",
      "Epoch 10/50\n",
      "65/65 [==============================] - 33s 506ms/step - loss: 0.0069\n",
      "Epoch 11/50\n",
      "65/65 [==============================] - 31s 481ms/step - loss: 0.0063\n",
      "Epoch 12/50\n",
      "65/65 [==============================] - 30s 454ms/step - loss: 0.0064\n",
      "Epoch 13/50\n",
      "65/65 [==============================] - 28s 423ms/step - loss: 0.0059\n",
      "Epoch 14/50\n",
      "65/65 [==============================] - 28s 429ms/step - loss: 0.0055\n",
      "Epoch 15/50\n",
      "65/65 [==============================] - 28s 425ms/step - loss: 0.0054\n",
      "Epoch 16/50\n",
      "65/65 [==============================] - 27s 421ms/step - loss: 0.0056\n",
      "Epoch 17/50\n",
      "65/65 [==============================] - 27s 422ms/step - loss: 0.0048\n",
      "Epoch 18/50\n",
      "65/65 [==============================] - 27s 415ms/step - loss: 0.0048\n",
      "Epoch 19/50\n",
      "65/65 [==============================] - 27s 414ms/step - loss: 0.0049\n",
      "Epoch 20/50\n",
      "65/65 [==============================] - 28s 424ms/step - loss: 0.0041\n",
      "Epoch 21/50\n",
      "65/65 [==============================] - 30s 459ms/step - loss: 0.0046\n",
      "Epoch 22/50\n",
      "65/65 [==============================] - 29s 445ms/step - loss: 0.0041\n",
      "Epoch 23/50\n",
      "65/65 [==============================] - 29s 445ms/step - loss: 0.0041\n",
      "Epoch 24/50\n",
      "65/65 [==============================] - 26s 407ms/step - loss: 0.0043\n",
      "Epoch 25/50\n",
      "65/65 [==============================] - 27s 419ms/step - loss: 0.0042\n",
      "Epoch 26/50\n",
      "65/65 [==============================] - 32s 488ms/step - loss: 0.0038\n",
      "Epoch 27/50\n",
      "65/65 [==============================] - 30s 456ms/step - loss: 0.0039\n",
      "Epoch 28/50\n",
      "65/65 [==============================] - 31s 473ms/step - loss: 0.0038\n",
      "Epoch 29/50\n",
      "65/65 [==============================] - 34s 517ms/step - loss: 0.0042\n",
      "Epoch 30/50\n",
      "65/65 [==============================] - 33s 513ms/step - loss: 0.0036\n",
      "Epoch 31/50\n",
      "65/65 [==============================] - 34s 517ms/step - loss: 0.0034\n",
      "Epoch 32/50\n",
      "65/65 [==============================] - 33s 505ms/step - loss: 0.0033\n",
      "Epoch 33/50\n",
      "65/65 [==============================] - 31s 479ms/step - loss: 0.0035\n",
      "Epoch 34/50\n",
      "65/65 [==============================] - 32s 492ms/step - loss: 0.0031\n",
      "Epoch 35/50\n",
      "65/65 [==============================] - 33s 509ms/step - loss: 0.0034\n",
      "Epoch 36/50\n",
      "65/65 [==============================] - 33s 506ms/step - loss: 0.0033\n",
      "Epoch 37/50\n",
      "65/65 [==============================] - 37s 568ms/step - loss: 0.0031\n",
      "Epoch 38/50\n",
      "65/65 [==============================] - 42s 647ms/step - loss: 0.0030\n",
      "Epoch 39/50\n",
      "65/65 [==============================] - 52s 794ms/step - loss: 0.0032\n",
      "Epoch 40/50\n",
      "65/65 [==============================] - 51s 784ms/step - loss: 0.0034\n",
      "Epoch 41/50\n",
      "65/65 [==============================] - 48s 744ms/step - loss: 0.0032\n",
      "Epoch 42/50\n",
      "65/65 [==============================] - 41s 630ms/step - loss: 0.0028\n",
      "Epoch 43/50\n",
      "65/65 [==============================] - 31s 481ms/step - loss: 0.0030\n",
      "Epoch 44/50\n",
      "65/65 [==============================] - 33s 502ms/step - loss: 0.0027\n",
      "Epoch 45/50\n",
      "65/65 [==============================] - 32s 493ms/step - loss: 0.0028\n",
      "Epoch 46/50\n",
      "65/65 [==============================] - 32s 493ms/step - loss: 0.0028\n",
      "Epoch 47/50\n",
      "65/65 [==============================] - 32s 495ms/step - loss: 0.0030\n",
      "Epoch 48/50\n",
      "65/65 [==============================] - 33s 506ms/step - loss: 0.0028\n",
      "Epoch 49/50\n",
      "65/65 [==============================] - 30s 466ms/step - loss: 0.0028\n",
      "Epoch 50/50\n",
      "65/65 [==============================] - 33s 504ms/step - loss: 0.0030\n"
     ]
    },
    {
     "data": {
      "text/plain": [
       "<keras.callbacks.History at 0x169514c5820>"
      ]
     },
     "execution_count": 23,
     "metadata": {},
     "output_type": "execute_result"
    }
   ],
   "source": [
    "model.compile(optimizer='adam', loss='mean_squared_error')\n",
    "model.fit(x_train, y_train, epochs=50)"
   ]
  },
  {
   "cell_type": "code",
   "execution_count": 24,
   "id": "c60229a2",
   "metadata": {},
   "outputs": [],
   "source": [
    "model.save('keras_model.h5')"
   ]
  },
  {
   "cell_type": "code",
   "execution_count": 25,
   "id": "c96aa4fc",
   "metadata": {},
   "outputs": [],
   "source": [
    "past_100_days = data_training.tail(100)"
   ]
  },
  {
   "cell_type": "code",
   "execution_count": 26,
   "id": "5661e643",
   "metadata": {},
   "outputs": [
    {
     "name": "stderr",
     "output_type": "stream",
     "text": [
      "C:\\Users\\Bhavik\\AppData\\Local\\Temp\\ipykernel_19844\\531349220.py:1: FutureWarning: The frame.append method is deprecated and will be removed from pandas in a future version. Use pandas.concat instead.\n",
      "  final_df = past_100_days.append(data_testing, ignore_index=True)\n"
     ]
    }
   ],
   "source": [
    "final_df = past_100_days.append(data_testing, ignore_index=True)"
   ]
  },
  {
   "cell_type": "code",
   "execution_count": 27,
   "id": "0ddf06c7",
   "metadata": {},
   "outputs": [
    {
     "data": {
      "text/html": [
       "<div>\n",
       "<style scoped>\n",
       "    .dataframe tbody tr th:only-of-type {\n",
       "        vertical-align: middle;\n",
       "    }\n",
       "\n",
       "    .dataframe tbody tr th {\n",
       "        vertical-align: top;\n",
       "    }\n",
       "\n",
       "    .dataframe thead th {\n",
       "        text-align: right;\n",
       "    }\n",
       "</style>\n",
       "<table border=\"1\" class=\"dataframe\">\n",
       "  <thead>\n",
       "    <tr style=\"text-align: right;\">\n",
       "      <th></th>\n",
       "      <th>Close</th>\n",
       "    </tr>\n",
       "  </thead>\n",
       "  <tbody>\n",
       "    <tr>\n",
       "      <th>0</th>\n",
       "      <td>27.240000</td>\n",
       "    </tr>\n",
       "    <tr>\n",
       "      <th>1</th>\n",
       "      <td>27.200001</td>\n",
       "    </tr>\n",
       "    <tr>\n",
       "      <th>2</th>\n",
       "      <td>27.190001</td>\n",
       "    </tr>\n",
       "    <tr>\n",
       "      <th>3</th>\n",
       "      <td>27.170000</td>\n",
       "    </tr>\n",
       "    <tr>\n",
       "      <th>4</th>\n",
       "      <td>26.719999</td>\n",
       "    </tr>\n",
       "  </tbody>\n",
       "</table>\n",
       "</div>"
      ],
      "text/plain": [
       "       Close\n",
       "0  27.240000\n",
       "1  27.200001\n",
       "2  27.190001\n",
       "3  27.170000\n",
       "4  26.719999"
      ]
     },
     "execution_count": 27,
     "metadata": {},
     "output_type": "execute_result"
    }
   ],
   "source": [
    "final_df.head()"
   ]
  },
  {
   "cell_type": "code",
   "execution_count": 28,
   "id": "e361421f",
   "metadata": {},
   "outputs": [
    {
     "data": {
      "text/plain": [
       "array([[0.75048609],\n",
       "       [0.74918995],\n",
       "       [0.7488659 ],\n",
       "       ...,\n",
       "       [0.66040182],\n",
       "       [0.64938437],\n",
       "       [0.72294233]])"
      ]
     },
     "execution_count": 28,
     "metadata": {},
     "output_type": "execute_result"
    }
   ],
   "source": [
    "input_data = scaler.fit_transform(final_df)\n",
    "input_data"
   ]
  },
  {
   "cell_type": "code",
   "execution_count": 29,
   "id": "c2a366d2",
   "metadata": {},
   "outputs": [
    {
     "data": {
      "text/plain": [
       "(1034, 1)"
      ]
     },
     "execution_count": 29,
     "metadata": {},
     "output_type": "execute_result"
    }
   ],
   "source": [
    "input_data.shape"
   ]
  },
  {
   "cell_type": "code",
   "execution_count": 30,
   "id": "56de089e",
   "metadata": {},
   "outputs": [],
   "source": [
    "x_test = []\n",
    "y_test = []\n",
    "\n",
    "for i in range(100, input_data.shape[0]):\n",
    "    x_test.append(input_data[i-100: i])\n",
    "    y_test.append(input_data[i, 0])"
   ]
  },
  {
   "cell_type": "code",
   "execution_count": 31,
   "id": "2c81ee35",
   "metadata": {},
   "outputs": [
    {
     "name": "stdout",
     "output_type": "stream",
     "text": [
      "(934, 100, 1)\n",
      "(934,)\n"
     ]
    }
   ],
   "source": [
    "x_test, y_test = np.array(x_test), np.array(y_test)\n",
    "print(x_test.shape)\n",
    "print(y_test.shape)"
   ]
  },
  {
   "cell_type": "code",
   "execution_count": 32,
   "id": "00878627",
   "metadata": {},
   "outputs": [
    {
     "name": "stdout",
     "output_type": "stream",
     "text": [
      "30/30 [==============================] - 7s 114ms/step\n"
     ]
    },
    {
     "data": {
      "text/plain": [
       "(934, 1)"
      ]
     },
     "execution_count": 32,
     "metadata": {},
     "output_type": "execute_result"
    }
   ],
   "source": [
    "# Making Predictions\n",
    "y_predicted = model.predict(x_test)\n",
    "y_predicted.shape"
   ]
  },
  {
   "cell_type": "code",
   "execution_count": 33,
   "id": "4351e4e5",
   "metadata": {},
   "outputs": [
    {
     "data": {
      "text/plain": [
       "array([4.67271571e-01, 4.52689563e-01, 4.68891767e-01, 4.60790665e-01,\n",
       "       4.64679221e-01, 4.65651375e-01, 4.78289075e-01, 4.76020776e-01,\n",
       "       4.61762819e-01, 4.61438768e-01, 4.59170469e-01, 4.52365573e-01,\n",
       "       4.40375915e-01, 4.35191214e-01, 4.45236563e-01, 4.45560615e-01,\n",
       "       4.23201556e-01, 4.03758960e-01, 4.01490600e-01, 3.91769302e-01,\n",
       "       3.72650696e-01, 3.65521718e-01, 3.72326645e-01, 3.70706449e-01,\n",
       "       3.66169821e-01, 3.51587843e-01, 3.38302041e-01, 3.33117309e-01,\n",
       "       2.81918347e-01, 2.62475720e-01, 2.59235267e-01, 2.68632544e-01,\n",
       "       2.71872997e-01, 2.77705770e-01, 2.58587195e-01, 2.51458216e-01,\n",
       "       2.53078443e-01, 2.44005186e-01, 2.52430340e-01, 2.36876239e-01,\n",
       "       2.45949464e-01, 2.43357114e-01, 2.54050566e-01, 2.59559318e-01,\n",
       "       2.63447844e-01, 2.77705770e-01, 2.81270274e-01, 2.86779026e-01,\n",
       "       2.89371377e-01, 2.94880128e-01, 2.90667552e-01, 2.92611799e-01,\n",
       "       2.60531442e-01, 2.62475720e-01, 2.65068070e-01, 2.75113420e-01,\n",
       "       2.74789399e-01, 2.82242398e-01, 2.76733646e-01, 2.89695428e-01,\n",
       "       2.85482851e-01, 2.84186676e-01, 2.78029821e-01, 2.73169172e-01,\n",
       "       2.71872997e-01, 2.63123792e-01, 2.69604668e-01, 2.59559318e-01,\n",
       "       2.39144537e-01, 2.32663662e-01, 2.13545056e-01, 2.17757633e-01,\n",
       "       2.40764764e-01, 2.43033063e-01, 2.41412836e-01, 2.56642917e-01,\n",
       "       2.65068070e-01, 2.54050566e-01, 2.70576822e-01, 2.68632544e-01,\n",
       "       2.58911215e-01, 2.66688297e-01, 2.59235267e-01, 2.66688297e-01,\n",
       "       2.62475720e-01, 2.58587195e-01, 2.47245640e-01, 2.74141296e-01,\n",
       "       2.80946223e-01, 2.87751150e-01, 2.95204149e-01, 3.01036952e-01,\n",
       "       2.84186676e-01, 2.80946223e-01, 2.88723274e-01, 2.91315624e-01,\n",
       "       2.88399222e-01, 2.87751150e-01, 2.72197018e-01, 2.77381749e-01,\n",
       "       2.65068070e-01, 2.68632544e-01, 2.63447844e-01, 2.67336369e-01,\n",
       "       2.75437471e-01, 2.91315624e-01, 2.85806872e-01, 2.76733646e-01,\n",
       "       2.67012317e-01, 2.75761523e-01, 2.37200259e-01, 2.08360356e-01,\n",
       "       2.11600778e-01, 2.18729756e-01, 2.24238508e-01, 2.31691507e-01,\n",
       "       2.32663662e-01, 2.42709011e-01, 2.49189918e-01, 2.50162041e-01,\n",
       "       2.69280647e-01, 2.69928719e-01, 2.84186676e-01, 2.68632544e-01,\n",
       "       2.72845121e-01, 2.90343500e-01, 2.86130923e-01, 3.12054456e-01,\n",
       "       3.07517828e-01, 2.98768654e-01, 2.85806872e-01, 2.91963727e-01,\n",
       "       2.93907974e-01, 2.92287778e-01, 2.85482851e-01, 2.86130923e-01,\n",
       "       2.95204149e-01, 2.96176304e-01, 2.90991603e-01, 2.92611799e-01,\n",
       "       2.70252771e-01, 2.65716142e-01, 2.74141296e-01, 2.62151669e-01,\n",
       "       2.65716142e-01, 2.74789399e-01, 3.16591085e-01, 3.34737536e-01,\n",
       "       3.43486741e-01, 3.53856142e-01, 3.52235915e-01, 3.37653938e-01,\n",
       "       3.46079091e-01, 3.78483500e-01, 3.72974748e-01, 3.84316272e-01,\n",
       "       3.99546353e-01, 3.97278054e-01, 4.08619609e-01, 4.21905412e-01,\n",
       "       4.10239805e-01, 4.01814651e-01, 3.81075850e-01, 3.75567098e-01,\n",
       "       3.75567098e-01, 3.73298799e-01, 3.66817893e-01, 3.58392770e-01,\n",
       "       3.50615689e-01, 3.58068719e-01, 3.39274164e-01, 3.07841879e-01,\n",
       "       3.02333128e-01, 3.00712901e-01, 3.05897632e-01, 2.80622171e-01,\n",
       "       2.92611799e-01, 2.76733646e-01, 2.77057698e-01, 2.69604668e-01,\n",
       "       2.92287778e-01, 2.82890501e-01, 2.75113420e-01, 2.74141296e-01,\n",
       "       2.87427098e-01, 2.79325996e-01, 2.78677924e-01, 2.79650048e-01,\n",
       "       2.73169172e-01, 2.78677924e-01, 2.78677924e-01, 2.72845121e-01,\n",
       "       2.65716142e-01, 2.66040194e-01, 2.50810113e-01, 2.67984472e-01,\n",
       "       2.58263143e-01, 2.55022690e-01, 2.43357114e-01, 2.36228136e-01,\n",
       "       2.46921588e-01, 2.31043435e-01, 2.40116661e-01, 2.38172414e-01,\n",
       "       2.36876239e-01, 2.38496434e-01, 2.44329238e-01, 2.54050566e-01,\n",
       "       2.46273516e-01, 2.59235267e-01, 2.49513938e-01, 2.49189918e-01,\n",
       "       2.44977341e-01, 2.31367487e-01, 2.32339610e-01, 2.28775137e-01,\n",
       "       2.35256012e-01, 2.42709011e-01, 2.45625413e-01, 2.62475720e-01,\n",
       "       2.58263143e-01, 2.46273516e-01, 2.33311734e-01, 2.31043435e-01,\n",
       "       2.32663662e-01, 2.24562560e-01, 2.11276757e-01, 2.10304603e-01,\n",
       "       1.89889822e-01, 1.81788720e-01, 1.82436823e-01, 1.67206742e-01,\n",
       "       1.65910567e-01, 1.49384311e-01, 1.44847714e-01, 1.37718736e-01,\n",
       "       1.51328590e-01, 1.45171766e-01, 1.42255364e-01, 1.47440064e-01,\n",
       "       1.36746612e-01, 1.36098509e-01, 1.45171766e-01, 1.39338962e-01,\n",
       "       1.42255364e-01, 1.22164619e-01, 1.14387568e-01, 1.17952042e-01,\n",
       "       1.22164619e-01, 1.40959189e-01, 1.34802334e-01, 1.28969561e-01,\n",
       "       1.34154262e-01, 1.21840583e-01, 1.17628006e-01, 1.39338962e-01,\n",
       "       1.43875590e-01, 1.52624765e-01, 1.57161393e-01, 1.75307844e-01,\n",
       "       1.62022042e-01, 1.64614392e-01, 1.58133517e-01, 1.49060291e-01,\n",
       "       1.48088136e-01, 1.52624765e-01, 1.76928071e-01, 1.66234619e-01,\n",
       "       1.60077795e-01, 1.52300713e-01, 1.48088136e-01, 1.41931312e-01,\n",
       "       1.39663014e-01, 1.31237860e-01, 1.29617633e-01, 1.46791961e-01,\n",
       "       1.42579384e-01, 1.36422560e-01, 1.30913809e-01, 1.39987034e-01,\n",
       "       1.38366839e-01, 1.51004538e-01, 1.56189238e-01, 1.60725867e-01,\n",
       "       1.57485414e-01, 1.79844473e-01, 1.79196370e-01, 1.75955947e-01,\n",
       "       1.68178897e-01, 1.70123144e-01, 1.68178897e-01, 2.07712253e-01,\n",
       "       2.11600778e-01, 2.63447844e-01, 2.55022690e-01, 2.59235267e-01,\n",
       "       2.68956596e-01, 2.67660420e-01, 2.62151669e-01, 2.62475720e-01,\n",
       "       2.60531442e-01, 2.52106288e-01, 2.58587195e-01, 2.57291020e-01,\n",
       "       2.47569691e-01, 2.41412836e-01, 2.52106288e-01, 2.51134165e-01,\n",
       "       2.44005186e-01, 2.41088816e-01, 2.36552187e-01, 2.29747260e-01,\n",
       "       2.41736888e-01, 2.33635786e-01, 2.42709011e-01, 2.31367487e-01,\n",
       "       2.31367487e-01, 2.22294230e-01, 2.51782268e-01, 2.43033063e-01,\n",
       "       2.36228136e-01, 2.33635786e-01, 2.30719384e-01, 2.35580064e-01,\n",
       "       2.67660420e-01, 2.68308493e-01, 2.69280647e-01, 2.81594326e-01,\n",
       "       2.71872997e-01, 2.76085574e-01, 2.72521069e-01, 2.72521069e-01,\n",
       "       2.67012317e-01, 2.68308493e-01, 2.67012317e-01, 2.81594326e-01,\n",
       "       2.81594326e-01, 3.05897632e-01, 2.94880128e-01, 2.90019449e-01,\n",
       "       2.83214522e-01, 2.84510697e-01, 2.99740777e-01, 3.08814003e-01,\n",
       "       3.12378508e-01, 3.13350631e-01, 3.19831507e-01, 3.15618930e-01,\n",
       "       3.16591085e-01, 2.98768654e-01, 2.88723274e-01, 2.92935850e-01,\n",
       "       2.87103047e-01, 2.79001945e-01, 2.74141296e-01, 2.92611799e-01,\n",
       "       2.91963727e-01, 2.60855493e-01, 2.46273516e-01, 2.47893712e-01,\n",
       "       2.77381749e-01, 2.68308493e-01, 2.53726515e-01, 2.50486093e-01,\n",
       "       2.56966968e-01, 2.57615040e-01, 2.51134165e-01, 2.47245640e-01,\n",
       "       2.31043435e-01, 2.28127034e-01, 2.25858735e-01, 2.20349983e-01,\n",
       "       2.02527552e-01, 1.93778378e-01, 1.93778378e-01, 1.82760874e-01,\n",
       "       1.64614392e-01, 1.58133517e-01, 1.49384311e-01, 1.45495786e-01,\n",
       "       1.27673386e-01, 1.19572269e-01, 8.52235977e-02, 1.01101750e-01,\n",
       "       7.67984441e-02, 3.92093354e-02, 6.51328682e-02, 3.24044084e-02,\n",
       "       3.98574229e-02, 2.68956565e-02, 2.26830951e-02, 2.07388170e-02,\n",
       "       8.10110209e-03, 2.04147810e-02, 2.46273578e-02, 3.14322848e-02,\n",
       "       1.68502917e-02, 1.52300806e-02, 2.07388170e-02, 9.72139050e-04,\n",
       "       1.29617510e-03, 0.00000000e+00, 1.55541166e-02, 8.42515359e-03,\n",
       "       1.71743432e-02, 3.43486710e-02, 2.52754453e-02, 3.11082333e-02,\n",
       "       1.97666934e-02, 2.75437440e-02, 3.37005835e-02, 3.33765474e-02,\n",
       "       2.00907295e-02, 3.01361097e-02, 3.01361097e-02, 2.55994814e-02,\n",
       "       2.98120582e-02, 3.24044084e-02, 5.83279412e-02, 5.96241163e-02,\n",
       "       4.92547001e-02, 4.95787516e-02, 4.50421233e-02, 4.24497731e-02,\n",
       "       4.60142623e-02, 4.76344889e-02, 5.73558022e-02, 6.35126416e-02,\n",
       "       4.76344889e-02, 5.11989627e-02, 4.53661748e-02, 4.86066125e-02,\n",
       "       4.01814744e-02, 4.63383138e-02, 4.82825765e-02, 4.47180872e-02,\n",
       "       4.95787516e-02, 5.60596271e-02, 5.41153644e-02, 5.28191893e-02,\n",
       "       6.41607292e-02, 8.19831600e-02, 8.84640354e-02, 8.42514586e-02,\n",
       "       1.09202852e-01, 1.20544408e-01, 1.04990291e-01, 1.01425802e-01,\n",
       "       8.00388973e-02, 9.46208749e-02, 8.52235977e-02, 7.22618313e-02,\n",
       "       6.83733060e-02, 7.42060939e-02, 8.13350724e-02, 8.78159479e-02,\n",
       "       9.10563856e-02, 8.52235977e-02, 9.30006483e-02, 8.16591085e-02,\n",
       "       8.52235977e-02, 8.06869849e-02, 8.42514586e-02, 9.04082981e-02,\n",
       "       1.11795218e-01, 1.04990291e-01, 9.65651375e-02, 1.02073889e-01,\n",
       "       1.05962415e-01, 9.75372766e-02, 9.52689624e-02, 9.52689624e-02,\n",
       "       9.17044732e-02, 9.30006483e-02, 9.85094002e-02, 1.05962415e-01,\n",
       "       9.91574877e-02, 9.46208749e-02, 9.04082981e-02, 8.78159479e-02,\n",
       "       1.02397925e-01, 9.85094002e-02, 9.55930139e-02, 8.87880869e-02,\n",
       "       1.09202852e-01, 1.12119254e-01, 1.21192495e-01, 1.22164619e-01,\n",
       "       1.24432933e-01, 1.33830210e-01, 1.30265736e-01, 1.39338962e-01,\n",
       "       1.50356466e-01, 1.35774488e-01, 1.33830210e-01, 1.39663014e-01,\n",
       "       1.37718736e-01, 1.34154262e-01, 1.30913809e-01, 1.34802334e-01,\n",
       "       1.48736239e-01, 1.80492545e-01, 1.80492545e-01, 1.84381101e-01,\n",
       "       1.83408946e-01, 1.84381101e-01, 1.95074553e-01, 1.91185997e-01,\n",
       "       1.95074553e-01, 1.79844473e-01, 1.81140648e-01, 1.77900194e-01,\n",
       "       1.82436823e-01, 1.94102399e-01, 1.94750502e-01, 2.00583305e-01,\n",
       "       1.91834100e-01, 1.87945575e-01, 1.70123144e-01, 1.62994165e-01,\n",
       "       1.51004538e-01, 1.40959189e-01, 1.48088136e-01, 1.58781589e-01,\n",
       "       1.55217115e-01, 1.62346093e-01, 1.64290341e-01, 1.61697990e-01,\n",
       "       1.65910567e-01, 1.82112771e-01, 1.83084895e-01, 1.81140648e-01,\n",
       "       1.78224246e-01, 1.70447195e-01, 1.62022042e-01, 1.56837341e-01,\n",
       "       1.53272868e-01, 1.52948816e-01, 1.46791961e-01, 1.56837341e-01,\n",
       "       1.54244991e-01, 1.63318217e-01, 1.69799092e-01, 1.61373970e-01,\n",
       "       1.74983793e-01, 1.54569043e-01, 1.57161393e-01, 1.51976693e-01,\n",
       "       1.62022042e-01, 1.68826969e-01, 1.68502917e-01, 1.75631896e-01,\n",
       "       1.75307844e-01, 1.98314975e-01, 1.92806224e-01, 1.98639027e-01,\n",
       "       1.94102399e-01, 1.92806224e-01, 2.07712253e-01, 2.20998055e-01,\n",
       "       2.44653289e-01, 2.43033063e-01, 2.33635786e-01, 2.39144537e-01,\n",
       "       2.46921588e-01, 2.49513938e-01, 2.68956596e-01, 2.54698639e-01,\n",
       "       2.75113420e-01, 2.77381749e-01, 2.78029821e-01, 2.73169172e-01,\n",
       "       2.73493224e-01, 2.71224894e-01, 2.68956596e-01, 2.56318865e-01,\n",
       "       2.60531442e-01, 2.56318865e-01, 2.67660420e-01, 2.75113420e-01,\n",
       "       2.66688297e-01, 2.62475720e-01, 2.30395332e-01, 2.26182786e-01,\n",
       "       2.45301361e-01, 2.50162041e-01, 2.72845121e-01, 2.68308493e-01,\n",
       "       2.76085574e-01, 2.76085574e-01, 2.81270274e-01, 2.98768654e-01,\n",
       "       3.00064829e-01, 3.03629303e-01, 3.10758281e-01, 3.83020097e-01,\n",
       "       4.04082950e-01, 3.95009755e-01, 4.15100454e-01, 4.36811410e-01,\n",
       "       4.40699966e-01, 4.81529528e-01, 5.17822431e-01, 5.01944278e-01,\n",
       "       4.68891767e-01, 4.65651375e-01, 4.45236563e-01, 4.69215818e-01,\n",
       "       4.44912512e-01, 5.00324082e-01, 5.86195752e-01, 6.00777761e-01,\n",
       "       5.90732350e-01, 5.65781002e-01, 6.25081067e-01, 5.93648751e-01,\n",
       "       5.88464051e-01, 5.88788102e-01, 5.99481555e-01, 5.87491896e-01,\n",
       "       5.92352607e-01, 5.76474454e-01, 5.62216497e-01, 5.46986386e-01,\n",
       "       5.78418702e-01, 5.84899546e-01, 5.84575557e-01, 5.80362949e-01,\n",
       "       5.99157503e-01, 6.24432964e-01, 6.26701263e-01, 5.96889204e-01,\n",
       "       5.91056401e-01, 5.69993548e-01, 5.72261847e-01, 5.77770599e-01,\n",
       "       5.95917050e-01, 5.79714846e-01, 5.77122496e-01, 5.74530145e-01,\n",
       "       5.58976044e-01, 5.38885284e-01, 5.55411540e-01, 5.46014293e-01,\n",
       "       5.37589140e-01, 5.13285833e-01, 5.10693483e-01, 5.28839935e-01,\n",
       "       5.27867842e-01, 5.32728491e-01, 5.41477696e-01, 5.49254746e-01,\n",
       "       5.46014293e-01, 5.43097892e-01, 5.30460192e-01, 5.46338345e-01,\n",
       "       5.56059643e-01, 4.69215818e-01, 5.04860680e-01, 5.17498379e-01,\n",
       "       5.21386935e-01, 5.32404439e-01, 5.16526287e-01, 4.93843176e-01,\n",
       "       5.03888525e-01, 4.89954682e-01, 5.06156886e-01, 5.09721329e-01,\n",
       "       5.23331183e-01, 5.29812089e-01, 5.19118637e-01, 4.94815331e-01,\n",
       "       5.04860680e-01, 4.98379773e-01, 5.06480875e-01, 5.28515883e-01,\n",
       "       5.34672738e-01, 5.49902788e-01, 5.59624147e-01, 5.61244343e-01,\n",
       "       5.69669497e-01, 5.56059643e-01, 5.77446547e-01, 5.77770599e-01,\n",
       "       5.43421943e-01, 5.53791344e-01, 5.58003890e-01, 5.65132899e-01,\n",
       "       5.60272250e-01, 5.72909950e-01, 5.86519804e-01, 5.71937795e-01,\n",
       "       5.73882104e-01, 5.91704504e-01, 5.88464051e-01, 6.32534066e-01,\n",
       "       6.39014911e-01, 6.49060322e-01, 6.26701263e-01, 6.31237860e-01,\n",
       "       6.42255364e-01, 6.44847714e-01, 6.37394715e-01, 6.33182169e-01,\n",
       "       6.12443306e-01, 5.86519804e-01, 6.00129658e-01, 6.02722008e-01,\n",
       "       5.93972803e-01, 5.96565153e-01, 6.01749853e-01, 6.09850955e-01,\n",
       "       6.07582657e-01, 6.05962461e-01, 6.12119254e-01, 6.14711604e-01,\n",
       "       5.26571636e-01, 5.32404439e-01, 5.13285833e-01, 5.28191832e-01,\n",
       "       5.26247584e-01, 5.28839935e-01, 5.34024635e-01, 5.32728491e-01,\n",
       "       5.28191832e-01, 5.18794585e-01, 5.30136141e-01, 5.32728491e-01,\n",
       "       5.12313679e-01, 5.03240484e-01, 5.06156886e-01, 4.92222980e-01,\n",
       "       4.94491279e-01, 5.10045380e-01, 5.05508783e-01, 5.10693483e-01,\n",
       "       5.34024635e-01, 5.06804927e-01, 5.19118637e-01, 5.19442688e-01,\n",
       "       5.11665638e-01, 5.07453030e-01, 5.17174390e-01, 5.32080388e-01,\n",
       "       5.32080388e-01, 5.23007131e-01, 4.99027876e-01, 4.97731732e-01,\n",
       "       4.86714228e-01, 4.88334424e-01, 4.74724570e-01, 4.87362331e-01,\n",
       "       4.88982527e-01, 4.80233322e-01, 5.07777081e-01, 5.08101133e-01,\n",
       "       5.05508783e-01, 5.21710987e-01, 5.12961782e-01, 5.22359090e-01,\n",
       "       5.08101133e-01, 5.10045380e-01, 5.22683080e-01, 5.25275492e-01,\n",
       "       5.30136141e-01, 5.33700583e-01, 5.51847097e-01, 5.49254746e-01,\n",
       "       5.37913191e-01, 5.12313679e-01, 5.31108233e-01, 5.54763498e-01,\n",
       "       5.82955299e-01, 5.74206094e-01, 6.06934554e-01, 5.82955299e-01,\n",
       "       5.91380453e-01, 5.93972803e-01, 6.05962461e-01, 6.04018152e-01,\n",
       "       6.17303955e-01, 5.91704504e-01, 7.02203532e-01, 7.21646189e-01,\n",
       "       7.77057698e-01, 8.94361683e-01, 9.76020807e-01, 9.67271602e-01,\n",
       "       9.75696694e-01, 9.62735005e-01, 9.04731084e-01, 9.16396691e-01,\n",
       "       9.55605995e-01, 9.13480289e-01, 9.11211990e-01, 9.42644182e-01,\n",
       "       9.16396691e-01, 9.06027290e-01, 8.91121230e-01, 9.54309789e-01,\n",
       "       8.97278085e-01, 9.33246998e-01, 9.20285185e-01, 9.29358380e-01,\n",
       "       9.72132313e-01, 9.56902201e-01, 9.52041490e-01, 9.56254098e-01,\n",
       "       9.55605995e-01, 9.55605995e-01, 9.90926805e-01, 1.00000000e+00,\n",
       "       9.41672090e-01, 9.51717501e-01, 9.12508196e-01, 9.31950792e-01,\n",
       "       9.33246998e-01, 8.51587874e-01, 8.71030470e-01, 8.57420677e-01,\n",
       "       8.81399932e-01, 9.03758929e-01, 8.86908684e-01, 8.65845769e-01,\n",
       "       8.99870435e-01, 9.24497793e-01, 9.09267681e-01, 9.29034390e-01,\n",
       "       9.03110888e-01, 8.94685735e-01, 9.09591795e-01, 8.92741426e-01,\n",
       "       8.49967616e-01, 8.22747909e-01, 8.52235915e-01, 8.88528880e-01,\n",
       "       8.79131572e-01, 8.97602136e-01, 8.95657827e-01, 8.90149075e-01,\n",
       "       8.83020128e-01, 9.07647486e-01, 9.52689593e-01, 9.12184083e-01,\n",
       "       9.03110888e-01, 9.32274782e-01, 9.33246998e-01, 9.57550304e-01,\n",
       "       9.73752508e-01, 9.79909301e-01, 9.69539901e-01, 9.85742105e-01,\n",
       "       9.62410891e-01, 9.79261198e-01, 9.70511993e-01, 9.24821782e-01,\n",
       "       8.88852931e-01, 9.01490631e-01, 8.96629982e-01, 9.27414194e-01,\n",
       "       9.29682493e-01, 9.61762788e-01, 9.50097305e-01, 9.58522397e-01,\n",
       "       9.40699997e-01, 9.40375884e-01, 9.30654586e-01, 9.36811503e-01,\n",
       "       9.70511993e-01, 9.48801099e-01, 9.11211990e-01, 8.75891180e-01,\n",
       "       9.43616399e-01, 9.38755688e-01, 9.36163400e-01, 9.26441978e-01,\n",
       "       8.90149075e-01, 8.73298830e-01, 8.19183466e-01, 8.65845769e-01,\n",
       "       8.49319575e-01, 8.01036952e-01, 8.36357762e-01, 7.77705801e-01,\n",
       "       7.20998086e-01, 6.69799123e-01, 6.74659772e-01, 7.31043435e-01,\n",
       "       7.14193190e-01, 7.16785540e-01, 7.02851635e-01, 7.62151699e-01,\n",
       "       7.90019449e-01, 7.77705801e-01, 7.94232056e-01, 7.69280647e-01,\n",
       "       7.94880159e-01, 7.79974099e-01, 7.93908005e-01, 7.88075201e-01,\n",
       "       7.92611861e-01, 8.12378508e-01, 7.83214553e-01, 7.73493255e-01,\n",
       "       8.14646806e-01, 8.29876918e-01, 8.24044115e-01, 8.28580712e-01,\n",
       "       8.14646806e-01, 8.44782916e-01, 8.17887260e-01, 7.85158800e-01,\n",
       "       7.74465347e-01, 7.67012348e-01, 7.92935850e-01, 7.81270305e-01,\n",
       "       8.02009107e-01, 8.04601457e-01, 7.78029852e-01, 7.74141296e-01,\n",
       "       7.64419998e-01, 7.67012348e-01, 7.89695459e-01, 7.81918347e-01,\n",
       "       7.84510759e-01, 7.92935850e-01, 7.77381749e-01, 7.52430340e-01,\n",
       "       7.27478992e-01, 6.91186028e-01, 6.92806224e-01, 6.60401815e-01,\n",
       "       6.49384373e-01, 7.22942333e-01])"
      ]
     },
     "execution_count": 33,
     "metadata": {},
     "output_type": "execute_result"
    }
   ],
   "source": [
    "y_test"
   ]
  },
  {
   "cell_type": "code",
   "execution_count": 34,
   "id": "2df27b3f",
   "metadata": {},
   "outputs": [
    {
     "data": {
      "text/plain": [
       "array([0.03240441])"
      ]
     },
     "execution_count": 34,
     "metadata": {},
     "output_type": "execute_result"
    }
   ],
   "source": [
    "scaler.scale_"
   ]
  },
  {
   "cell_type": "code",
   "execution_count": 35,
   "id": "542eeb1d",
   "metadata": {},
   "outputs": [],
   "source": [
    "scaler_factor = 1 / 0.00682769\n",
    "y_predicted = y_predicted * scaler_factor\n",
    "y_test = y_test * scaler_factor"
   ]
  },
  {
   "cell_type": "code",
   "execution_count": 40,
   "id": "c182f382",
   "metadata": {},
   "outputs": [
    {
     "name": "stdout",
     "output_type": "stream",
     "text": [
      "R2 Score: 0.9630439383658537\n"
     ]
    }
   ],
   "source": [
    "from sklearn.metrics import r2_score\n",
    "print('R2 Score: {}'.format(r2_score(y_test, y_predicted)))"
   ]
  },
  {
   "cell_type": "code",
   "execution_count": 36,
   "id": "7beceec3",
   "metadata": {},
   "outputs": [
    {
     "data": {
      "image/png": "[encoded data removed]",
      "text/plain": [
       "<Figure size 1200x600 with 1 Axes>"
      ]
     },
     "metadata": {},
     "output_type": "display_data"
    }
   ],
   "source": [
    "plt.figure(figsize=(12,6))\n",
    "plt.plot(y_test, 'b', label = 'Original Price')\n",
    "plt.plot(y_predicted, 'r', label = 'Predicted Price')\n",
    "plt.xlabel('Time')\n",
    "plt.ylabel('Price')\n",
    "plt.legend()\n",
    "plt.show()"
   ]
  }
 ],
 "metadata": {
  "kernelspec": {
   "display_name": "base",
   "language": "python",
   "name": "python3"
  },
  "language_info": {
   "codemirror_mode": {
    "name": "ipython",
    "version": 3
   },
   "file_extension": ".py",
   "mimetype": "text/x-python",
   "name": "python",
   "nbconvert_exporter": "python",
   "pygments_lexer": "ipython3",
   "version": "3.9.15 (main, Nov 24 2022, 14:39:17) [MSC v.1916 64 bit (AMD64)]"
  },
  "vscode": {
   "interpreter": {
    "hash": "4f362462fef642b5c5927367c775bb5df6c63ec8ecdd3c10538064e659bc8884"
   }
  }
 },
 "nbformat": 4,
 "nbformat_minor": 5
}
